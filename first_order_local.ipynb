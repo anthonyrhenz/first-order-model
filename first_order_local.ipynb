{
 "cells": [
  {
   "cell_type": "markdown",
   "metadata": {
    "colab_type": "text",
    "id": "cdO_RxQZLahB"
   },
   "source": [
    "# Demo for paper \"First Order Motion Model for Image Animation\""
   ]
  },
  {
   "cell_type": "markdown",
   "metadata": {
    "colab_type": "text",
    "id": "GCDNKsEGLtR6"
   },
   "source": [
    "**Clone repository**"
   ]
  },
  {
   "cell_type": "code",
   "execution_count": null,
   "metadata": {
    "colab": {
     "base_uri": "https://localhost:8080/",
     "height": 86
    },
    "colab_type": "code",
    "id": "UCMFMJV7K-ag",
    "outputId": "d4187a1d-60b7-46d5-cf05-b5b555d11138"
   },
   "outputs": [],
   "source": [
    "!git clone https://github.com/AliaksandrSiarohin/first-order-model"
   ]
  },
  {
   "cell_type": "code",
   "execution_count": null,
   "metadata": {
    "colab": {
     "base_uri": "https://localhost:8080/",
     "height": 34
    },
    "colab_type": "code",
    "id": "PBp6l_4bBYUL",
    "outputId": "6d1d3a26-edb2-449a-bdf5-583d817df9b9"
   },
   "outputs": [],
   "source": [
    "ls"
   ]
  },
  {
   "cell_type": "markdown",
   "metadata": {
    "colab_type": "text",
    "id": "VsgVK1EURXkd"
   },
   "source": [
    "**Original source folder https://drive.google.com/drive/folders/1kZ1gCnpfU0BnpdU47pLM_TQ6RypDDqgw?usp=sharing**"
   ]
  },
  {
   "cell_type": "markdown",
   "metadata": {
    "colab_type": "text",
    "id": "rW-ipQXPOWUo"
   },
   "source": [
    "**Load driving video and source image**"
   ]
  },
  {
   "cell_type": "code",
   "execution_count": null,
   "metadata": {
    "colab": {
     "base_uri": "https://localhost:8080/",
     "height": 453
    },
    "colab_type": "code",
    "id": "Oxi6-riLOgnm",
    "outputId": "8ba85af0-ef91-42bd-fbf6-01d49006c0b9"
   },
   "outputs": [],
   "source": [
    "import imageio\n",
    "import numpy as np\n",
    "import matplotlib.pyplot as plt\n",
    "import matplotlib.animation as animation\n",
    "from skimage.transform import resize\n",
    "from IPython.display import HTML\n",
    "import warnings\n",
    "warnings.filterwarnings(\"ignore\")\n",
    "\n",
    "inputName = \"person\"\n",
    "drivingVideo = \"damefinal.gif\"\n",
    "\n",
    "source_image = imageio.imread(f\"./inputs/{inputName}.png\")\n",
    "driving_video = imageio.mimread(f\"./inputs/{drivingVideo}\")\n",
    "\n",
    "\n",
    "#Resize image and video to 256x256\n",
    "\n",
    "source_image = resize(source_image, (256, 256))[..., :3]\n",
    "driving_video = [resize(frame, (256, 256))[..., :3] for frame in driving_video]\n",
    "\n",
    "def display(source, driving, generated=None):\n",
    "    fig = plt.figure(figsize=(8 + 4 * (generated is not None), 6))\n",
    "\n",
    "    ims = []\n",
    "    for i in range(len(driving)):\n",
    "        cols = [source]\n",
    "        cols.append(driving[i])\n",
    "        if generated is not None:\n",
    "            cols.append(generated[i])\n",
    "        im = plt.imshow(np.concatenate(cols, axis=1), animated=True)\n",
    "        plt.axis('off')\n",
    "        ims.append([im])\n",
    "\n",
    "    ani = animation.ArtistAnimation(fig, ims, interval=50, repeat_delay=1000)\n",
    "    plt.close()\n",
    "    return ani\n",
    "    \n",
    "print(\"Done!\")\n",
    "# HTML(display(source_image, driving_video).to_html5_video())"
   ]
  },
  {
   "cell_type": "markdown",
   "metadata": {
    "colab_type": "text",
    "id": "xjM7ubVfWrwT"
   },
   "source": [
    "**Create a model and load checkpoints**"
   ]
  },
  {
   "cell_type": "code",
   "execution_count": null,
   "metadata": {
    "colab": {},
    "colab_type": "code",
    "id": "3FQiXqQPWt5B"
   },
   "outputs": [],
   "source": [
    "from demo import load_checkpoints\n",
    "generator, kp_detector = load_checkpoints(config_path='config/vox-256.yaml', \n",
    "                            checkpoint_path='./vox-cpk.pth.tar')\n",
    "print(\"Done!\")"
   ]
  },
  {
   "cell_type": "markdown",
   "metadata": {
    "colab_type": "text",
    "id": "fdFdasHEj3t7"
   },
   "source": [
    "**Perform image animation**"
   ]
  },
  {
   "cell_type": "code",
   "execution_count": null,
   "metadata": {
    "colab": {
     "base_uri": "https://localhost:8080/",
     "height": 470
    },
    "colab_type": "code",
    "id": "SB12II11kF4c",
    "outputId": "4b4ddfb4-cc0e-478b-cff0-a4991c0b5d51"
   },
   "outputs": [],
   "source": [
    "from demo import make_animation\n",
    "from skimage import img_as_ubyte\n",
    "import os\n",
    "\n",
    "predictions = make_animation(source_image, driving_video, generator, kp_detector, relative=True)\n",
    "\n",
    "#save resulting video\n",
    "imageio.mimsave(f\"./outputs/{inputName}.mp4\", [img_as_ubyte(frame) for frame in predictions], fps=30)\n",
    "os.system(f\"ffmpeg -i outputs/{inputName}.mp4 -i inputs/damedane.mp4 -vcodec copy -acodec copy final/{inputName}.mp4\")\n",
    "print(\"Video Complete!\")\n",
    "\n",
    "\n",
    "HTML(display(source_image, driving_video, predictions).to_html5_video())"
   ]
  },
  {
   "cell_type": "markdown",
   "metadata": {
    "colab_type": "text",
    "id": "-tJN01xQCpqH"
   },
   "source": [
    "**In the cell above we use relative keypoint displacement to animate the objects. We can use absolute coordinates instead,  but in this way all the object proportions will be inherited from the driving video.**"
   ]
  },
  {
   "cell_type": "code",
   "execution_count": null,
   "metadata": {
    "colab": {
     "base_uri": "https://localhost:8080/",
     "height": 471
    },
    "colab_type": "code",
    "id": "aOE_W_kfC9aX",
    "outputId": "de247531-c930-45a0-df41-e19a9373df2c"
   },
   "outputs": [],
   "source": [
    "predictions = make_animation(source_image, driving_video, generator, kp_detector, relative=False, adapt_movement_scale=True)\n",
    "HTML(display(source_image, driving_video, predictions).to_html5_video())"
   ]
  },
  {
   "cell_type": "markdown",
   "metadata": {},
   "source": [
    "**One Click One Deepfake :)**"
   ]
  },
  {
   "cell_type": "code",
   "execution_count": null,
   "metadata": {},
   "outputs": [],
   "source": [
    "#Configuration\n",
    "\n",
    "inputName = \"person\"\n",
    "drivingVideo = \"damefinal.gif\"\n",
    "audioSource = \"damedane.mp4\"\n",
    "\n",
    "print(f\"Ready to go for input  {inputName}.png\\n with driving video    {drivingVideo}\\n and audio source      {audioSource}\")"
   ]
  },
  {
   "cell_type": "code",
   "execution_count": null,
   "metadata": {
    "scrolled": true
   },
   "outputs": [],
   "source": [
    "import numpy as np\n",
    "import matplotlib.pyplot as plt\n",
    "import matplotlib.animation as animation\n",
    "from skimage.transform import resize\n",
    "from IPython.display import HTML\n",
    "from demo import load_checkpoints, make_animation\n",
    "from skimage import img_as_ubyte\n",
    "import os, warnings, imageio\n",
    "warnings.filterwarnings(\"ignore\")\n",
    "source_image = imageio.imread(f\"./inputs/{inputName}.png\")\n",
    "driving_video = imageio.mimread(f\"./inputs/{drivingVideo}\")\n",
    "source_image = resize(source_image, (256, 256))[..., :3]\n",
    "driving_video = [resize(frame, (256, 256))[..., :3] for frame in driving_video]\n",
    "def display(source, driving, generated=None):\n",
    "    fig = plt.figure(figsize=(8 + 4 * (generated is not None), 6))\n",
    "    ims = []\n",
    "    for i in range(len(driving)):\n",
    "        cols = [source]\n",
    "        cols.append(driving[i])\n",
    "        if generated is not None:\n",
    "            cols.append(generated[i])\n",
    "        im = plt.imshow(np.concatenate(cols, axis=1), animated=True)\n",
    "        plt.axis('off')\n",
    "        ims.append([im])\n",
    "    ani = animation.ArtistAnimation(fig, ims, interval=50, repeat_delay=1000)\n",
    "    plt.close()\n",
    "    return ani\n",
    "generator, kp_detector = load_checkpoints(config_path='config/vox-256.yaml', checkpoint_path='./vox-cpk.pth.tar')\n",
    "predictions = make_animation(source_image, driving_video, generator, kp_detector, relative=True)\n",
    "if (os.path.exists(f\"./outputs/{inputName}.mp4\")): os.remove(f\"./outputs/{inputName}.mp4\")\n",
    "imageio.mimsave(f\"./outputs/{inputName}.mp4\", [img_as_ubyte(frame) for frame in predictions], fps=30)\n",
    "os.system(f\"ffmpeg -i outputs/{inputName}.mp4 -i inputs/{audioSource} -vcodec copy -acodec copy -y final/{inputName}.mp4\")\n",
    "print(\"Video Complete!\")\n",
    "# HTML(display(source_image, driving_video, predictions).to_html5_video())"
   ]
  }
 ],
 "metadata": {
  "accelerator": "GPU",
  "colab": {
   "name": "first-order-model-demo.ipynb",
   "provenance": [],
   "toc_visible": true
  },
  "kernelspec": {
   "display_name": "Python 3",
   "language": "python",
   "name": "python3"
  },
  "language_info": {
   "codemirror_mode": {
    "name": "ipython",
    "version": 3
   },
   "file_extension": ".py",
   "mimetype": "text/x-python",
   "name": "python",
   "nbconvert_exporter": "python",
   "pygments_lexer": "ipython3",
   "version": "3.8.3"
  }
 },
 "nbformat": 4,
 "nbformat_minor": 1
}
